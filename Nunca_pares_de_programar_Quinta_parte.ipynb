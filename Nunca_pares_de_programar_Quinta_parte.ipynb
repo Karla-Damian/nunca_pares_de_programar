{
 "cells": [
  {
   "cell_type": "markdown",
   "metadata": {},
   "source": [
    "## Reto #1 - Curso favorito\n",
    "Pide a tu usuario que indique cual es su curso favorito de Platzi e imprímelo en pantalla 8 veces.\n",
    "¿Por qué 8 veces? Porque este año Platzi cumplió 8 años 😉"
   ]
  },
  {
   "cell_type": "code",
   "execution_count": 26,
   "metadata": {},
   "outputs": [
    {
     "name": "stdout",
     "output_type": "stream",
     "text": [
      "¡Hola! ¿Cuál es tu curso favorito de Platzi? Curso profesional de Git y GitHub\n",
      "0 Curso profesional de Git y GitHub\n",
      "1 Curso profesional de Git y GitHub\n",
      "2 Curso profesional de Git y GitHub\n",
      "3 Curso profesional de Git y GitHub\n",
      "4 Curso profesional de Git y GitHub\n",
      "5 Curso profesional de Git y GitHub\n",
      "6 Curso profesional de Git y GitHub\n",
      "7 Curso profesional de Git y GitHub\n"
     ]
    }
   ],
   "source": [
    "user_course = input('¡Hola! ¿Cuál es tu curso favorito de Platzi? ')\n",
    "\n",
    "def fav_course(course):\n",
    "    for n in range(8):\n",
    "        print(n, course)\n",
    "\n",
    "fav_course(user_course)"
   ]
  },
  {
   "cell_type": "markdown",
   "metadata": {},
   "source": [
    "## Reto #2 - Curso favorito ‘n’ veces\n",
    "Toma el reto anterior, pero ahora pregunta al usuario cuantas veces quiere mostrar el mensaje.\n",
    "¿Qué pasa si coloca cero como respuesta? 🤔"
   ]
  },
  {
   "cell_type": "code",
   "execution_count": 27,
   "metadata": {},
   "outputs": [
    {
     "name": "stdout",
     "output_type": "stream",
     "text": [
      "¡Hola! ¿Cuál es tu curso favorito de Platzi? Taller para conseguir el trabajo de tus sueños\n",
      "¿Cuántas veces quieres que se repita tu mensaje? 4\n",
      "0 Taller para conseguir el trabajo de tus sueños\n",
      "1 Taller para conseguir el trabajo de tus sueños\n",
      "2 Taller para conseguir el trabajo de tus sueños\n",
      "3 Taller para conseguir el trabajo de tus sueños\n"
     ]
    }
   ],
   "source": [
    "user_course = input('¡Hola! ¿Cuál es tu curso favorito de Platzi? ')\n",
    "user_repetition = int(input('¿Cuántas veces quieres que se repita tu mensaje? '))\n",
    "\n",
    "def nfav_course(course, repetition):\n",
    "    if repetition >= 1:\n",
    "        for n in range(repetition):\n",
    "            print(n, course)\n",
    "    elif repetition == 0:\n",
    "        print('¡...!')\n",
    "    else:\n",
    "        print('¡Error! Tú numero no es valido')\n",
    "\n",
    "nfav_course(user_course, user_repetition)"
   ]
  },
  {
   "cell_type": "markdown",
   "metadata": {},
   "source": [
    "### Reto #3 - Curso en una columna\n",
    "Nuevamente, pide a tu usuario que indique su curso favorito de Platzi pero ahora muestra un caracter por línea de forma que puede parecer el inicio de un acróstico."
   ]
  },
  {
   "cell_type": "code",
   "execution_count": 28,
   "metadata": {},
   "outputs": [
    {
     "name": "stdout",
     "output_type": "stream",
     "text": [
      "¡Hola! ¿Cuál es tu curso favorito de Platzi? Curso de finanzas personales\n",
      "C\n",
      "u\n",
      "r\n",
      "s\n",
      "o\n",
      " \n",
      "d\n",
      "e\n",
      " \n",
      "f\n",
      "i\n",
      "n\n",
      "a\n",
      "n\n",
      "z\n",
      "a\n",
      "s\n",
      " \n",
      "p\n",
      "e\n",
      "r\n",
      "s\n",
      "o\n",
      "n\n",
      "a\n",
      "l\n",
      "e\n",
      "s\n"
     ]
    }
   ],
   "source": [
    "# Aquí muestra el nombre del curso en vertical\n",
    "user_course = input('¡Hola! ¿Cuál es tu curso favorito de Platzi? ')\n",
    "\n",
    "def colum_course(course):\n",
    "    for caracter in course:\n",
    "        print(caracter)\n",
    "        \n",
    "colum_course(user_course)"
   ]
  },
  {
   "cell_type": "code",
   "execution_count": 29,
   "metadata": {},
   "outputs": [
    {
     "name": "stdout",
     "output_type": "stream",
     "text": [
      "¡Hola! ¿Cuál es tu curso favorito de Platzi? Curso de finanzas personales\n",
      "C\n",
      "D\n",
      "F\n",
      "P\n"
     ]
    }
   ],
   "source": [
    "# Aquí muestra la primer letra de cada palabra del curso para formar una acróstico\n",
    "user_course = input('¡Hola! ¿Cuál es tu curso favorito de Platzi? ')\n",
    "\n",
    "def acrostic_course(course):\n",
    "    words = course.split()\n",
    "    for w in words:\n",
    "        print(w[0].upper())\n",
    "        \n",
    "acrostic_course(user_course)"
   ]
  },
  {
   "cell_type": "markdown",
   "metadata": {},
   "source": [
    "## Reto #4 - Animal en columna ‘n’ veces.\n",
    "Toma como base el reto anterior, pide a tu usuario que indique su animal favorito y después muéstralo con un caracter por línea. Esto debe repetirse un número de veces que ya hayas preguntado a tu usuario."
   ]
  },
  {
   "cell_type": "code",
   "execution_count": 23,
   "metadata": {},
   "outputs": [
    {
     "name": "stdout",
     "output_type": "stream",
     "text": [
      "Hey ¿cuál es tu animal favorito? Hámster\n",
      "¿Cuántas veces quieres que se repita? 2\n",
      "H\n",
      "á\n",
      "m\n",
      "s\n",
      "t\n",
      "e\n",
      "r\n",
      "H\n",
      "á\n",
      "m\n",
      "s\n",
      "t\n",
      "e\n",
      "r\n"
     ]
    }
   ],
   "source": [
    "user_animal = input('Hey ¿cuál es tu animal favorito? ')\n",
    "user_repetition = int(input('¿Cuántas veces quieres que se repita? '))\n",
    "\n",
    "def n_animal(animal, repetition):\n",
    "    for n in range(repetition):\n",
    "        for caracter in animal:\n",
    "            print(caracter)\n",
    "            \n",
    "n_animal(user_animal, user_repetition)"
   ]
  },
  {
   "cell_type": "markdown",
   "metadata": {},
   "source": [
    "## Reto #5 - Tabla de multiplicar\n",
    "Pide a tu usuario un número, luego de ello muestra la tabla de multiplicar de ese número del 1 al 10."
   ]
  },
  {
   "cell_type": "code",
   "execution_count": 1,
   "metadata": {},
   "outputs": [
    {
     "name": "stdout",
     "output_type": "stream",
     "text": [
      "Escribe un número: 24\n",
      "24.0 x 1 = 24.0\n",
      "24.0 x 2 = 48.0\n",
      "24.0 x 3 = 72.0\n",
      "24.0 x 4 = 96.0\n",
      "24.0 x 5 = 120.0\n",
      "24.0 x 6 = 144.0\n",
      "24.0 x 7 = 168.0\n",
      "24.0 x 8 = 192.0\n",
      "24.0 x 9 = 216.0\n",
      "24.0 x 10 = 240.0\n"
     ]
    }
   ],
   "source": [
    "user_num = float(input('Escribe un número: '))\n",
    "\n",
    "def tabla_mult(numero):\n",
    "    for n in range(10):\n",
    "        multiplicacion = numero * (n+1)\n",
    "        print(f'{numero} x {n+1} = {multiplicacion}')\n",
    "        \n",
    "tabla_mult(user_num)"
   ]
  },
  {
   "cell_type": "markdown",
   "metadata": {},
   "source": [
    "## Reto # 6 - Cuenta regresiva\n",
    "Pide a tu usuario un número, después imprime una cuenta regresiva uno a uno, desde ese número hasta 0. Esto aplica también para números negativos."
   ]
  },
  {
   "cell_type": "code",
   "execution_count": 25,
   "metadata": {},
   "outputs": [
    {
     "name": "stdout",
     "output_type": "stream",
     "text": [
      "Escribe un número: -5\n",
      "-5\n",
      "-4\n",
      "-3\n",
      "-2\n",
      "-1\n",
      "0\n"
     ]
    }
   ],
   "source": [
    "user_num = int(input('Escribe un número: '))\n",
    "\n",
    "def countdown(num):\n",
    "    if num > 0:\n",
    "        for n in range(num, -1, -1):\n",
    "            print(n)\n",
    "    elif num < 0:\n",
    "        for n in range(num, 1, +1):\n",
    "            print(n)\n",
    "    else:\n",
    "        print('¡!')\n",
    "            \n",
    "countdown(user_num)"
   ]
  },
  {
   "cell_type": "markdown",
   "metadata": {},
   "source": [
    "## Reto #7 - Curso favorito, sin exagerar\n",
    "Toma como base el Reto #2, pero agrega como condiciones las siguientes:\n",
    "Si el número ‘n’ es mayor a 15, solo imprimirás el nombre del curso 3 veces e indicarás que ‘n’ es un número muy grande.\n"
   ]
  },
  {
   "cell_type": "code",
   "execution_count": 10,
   "metadata": {},
   "outputs": [
    {
     "name": "stdout",
     "output_type": "stream",
     "text": [
      "¡Hola! ¿Cuál es tu curso favorito de Platzi? Curso para lavarse correctamente las manos\n",
      "¿Cuántas veces quieres que se repita tu mensaje? 17\n",
      "¡Ese número es muy grande!\n",
      "0 Curso para lavarse correctamente las manos\n",
      "1 Curso para lavarse correctamente las manos\n",
      "2 Curso para lavarse correctamente las manos\n"
     ]
    }
   ],
   "source": [
    "user_course = input('¡Hola! ¿Cuál es tu curso favorito de Platzi? ')\n",
    "user_repetition = int(input('¿Cuántas veces quieres que se repita tu mensaje? '))\n",
    "\n",
    "def nfav_course_limited(course, repetition):\n",
    "    if repetition <= 15:\n",
    "        for n in range(repetition):\n",
    "            print(n, course)\n",
    "    elif repetition > 15:\n",
    "        print('¡Ese número es muy grande!')\n",
    "        for n in range(3):\n",
    "            print(n, course)\n",
    "    elif repetition == 0:\n",
    "        print('¡...!')\n",
    "    else:\n",
    "        print('¡Error! Tú numero no es valido')\n",
    "\n",
    "nfav_course_limited(user_course, user_repetition)"
   ]
  },
  {
   "cell_type": "markdown",
   "metadata": {},
   "source": [
    "### Reto #8 - Suma autorizada\n",
    "Crearás un programa que pedirá a tu usuario 4 números, uno por uno. Al indicarlo preguntarás al usuario si desea sumarlo al total, si la respuesta es afirmativa se sumará. Al final debes mostrar el valor de la suma de aquellos números que fueron aceptados para la suma."
   ]
  },
  {
   "cell_type": "code",
   "execution_count": 30,
   "metadata": {},
   "outputs": [
    {
     "name": "stdout",
     "output_type": "stream",
     "text": [
      "Ingresa un número: 10\n",
      "¿Quiéres sumarlo al total? si\n",
      "total = 10.0\n",
      "Ingresa un número: 5\n",
      "¿Quiéres sumarlo al total? sí\n",
      "total = 15.0\n",
      "Ingresa un número: 8\n",
      "¿Quiéres sumarlo al total? no\n",
      "Ingresa un número: 2\n",
      "¿Quiéres sumarlo al total? SÍ\n",
      "total = 17.0\n"
     ]
    }
   ],
   "source": [
    "def authorized_sum():\n",
    "    suma = 0\n",
    "    for n in range(4):\n",
    "        user_num = float(input('Ingresa un número: '))\n",
    "        autorization = input('¿Quiéres sumarlo al total? ')\n",
    "        if autorization[0].lower() == 's':\n",
    "            suma = suma + user_num\n",
    "            print(f'total = {suma}')\n",
    "        \n",
    "authorized_sum()"
   ]
  },
  {
   "cell_type": "markdown",
   "metadata": {},
   "source": [
    "## Reto #9 - Recta numérica\n",
    "Escribe un programa donde preguntes a tu usuario si desea una recta numérica positiva o negativa, después pide un número que servirá como límite e imprime todos los números de uno en uno partiendo desde el cero."
   ]
  },
  {
   "cell_type": "code",
   "execution_count": 34,
   "metadata": {},
   "outputs": [
    {
     "name": "stdout",
     "output_type": "stream",
     "text": [
      "¿Quieres una positiva o negativa?N\n",
      "Escribe un número menor a 0: -3\n",
      "-3\n",
      "-2\n",
      "-1\n"
     ]
    }
   ],
   "source": [
    "user_answer = input('¿Quieres una positiva o negativa?')\n",
    "\n",
    "def number_line(answer):\n",
    "    if answer[0].lower() == 'p':\n",
    "        user_limit = int(input('Escribe un número mayor a 0: '))\n",
    "        for n in range(user_limit+1):\n",
    "            print(n)\n",
    "    elif answer[0].lower() == 'n':\n",
    "        user_limit = int(input('Escribe un número menor a 0: '))\n",
    "        for n in range(user_limit, 1):\n",
    "            print(n)\n",
    "            \n",
    "number_line(user_answer)"
   ]
  },
  {
   "cell_type": "code",
   "execution_count": 12,
   "metadata": {},
   "outputs": [
    {
     "name": "stdout",
     "output_type": "stream",
     "text": [
      "1\n",
      "-1\n",
      "-3\n",
      "-5\n",
      "-7\n",
      "-9\n"
     ]
    }
   ],
   "source": [
    "for n in range(1,-10,-2):\n",
    "    print(n)"
   ]
  },
  {
   "cell_type": "code",
   "execution_count": null,
   "metadata": {
    "collapsed": true
   },
   "outputs": [],
   "source": []
  }
 ],
 "metadata": {
  "kernelspec": {
   "display_name": "Python 3",
   "language": "python",
   "name": "python3"
  },
  "language_info": {
   "codemirror_mode": {
    "name": "ipython",
    "version": 3
   },
   "file_extension": ".py",
   "mimetype": "text/x-python",
   "name": "python",
   "nbconvert_exporter": "python",
   "pygments_lexer": "ipython3",
   "version": "3.6.3"
  }
 },
 "nbformat": 4,
 "nbformat_minor": 2
}
