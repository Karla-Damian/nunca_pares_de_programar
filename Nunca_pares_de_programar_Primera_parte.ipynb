{
 "cells": [
  {
   "cell_type": "code",
   "execution_count": 1,
   "metadata": {},
   "outputs": [
    {
     "name": "stdout",
     "output_type": "stream",
     "text": [
      "Hola ¿cuál es tu nombre? José\n",
      "¡Hola, José!\n"
     ]
    }
   ],
   "source": [
    "#Reto #1 “Hola Mundo”\n",
    "# Instrucciones: este es un clásico de clásicos, pero haremos un pequeño cambio.\n",
    "# En lugar de solo imprimir un mensaje en pantalla, pedirás al usuario que digite un nombre y\n",
    "# mostrarás en pantalla lo siguiente: Hola, [nombre]\n",
    "\n",
    "name = input('Hola ¿cuál es tu nombre? ')\n",
    "print(f'¡Hola, {name}!')"
   ]
  },
  {
   "cell_type": "code",
   "execution_count": 1,
   "metadata": {},
   "outputs": [
    {
     "name": "stdout",
     "output_type": "stream",
     "text": [
      "Hola ¿cuál es tu nombre? Rodrigo\n",
      "¿cuál es tu apellido? Rosales\n",
      "¡Hola, Rodrigo Rosales!\n"
     ]
    }
   ],
   "source": [
    "# Reto #2 “Hola… nombre y apellido:”\n",
    "# Instrucciones: Ahora que sabemos incluir nombres, podemos agregar más datos.\n",
    "# Intentemos con un apellido para tener algo así: ``Hola, [nombre] [apellido]```\n",
    "\n",
    "name = input('Hola ¿cuál es tu nombre? ')\n",
    "last_name = input('¿cuál es tu apellido? ')\n",
    "print(f'¡Hola, {name} {last_name}!')"
   ]
  },
  {
   "cell_type": "code",
   "execution_count": 16,
   "metadata": {
    "scrolled": true
   },
   "outputs": [
    {
     "name": "stdout",
     "output_type": "stream",
     "text": [
      "categoría1\n",
      "categoría2\n",
      "categoría3\n",
      "categoría4\n",
      "categoría5\n",
      "categoría6\n"
     ]
    }
   ],
   "source": [
    "# Instrucciones: seguro has visto que en Platzi hay más de 600 cursos\n",
    "# ¿puedes mostrar a que categorías corresponden en una sola línea de código?\n",
    "# Debe mostrarse así:\n",
    "#     Platzi cuenta con cursos de:\n",
    "# [categoría1]\n",
    "# [categoría2]\n",
    "# [categoría3]\n",
    "# [categoría4]\n",
    "# [categoría5]\n",
    "# [categoría6]\n",
    "\n",
    "for x in range(6):\n",
    "    print(\"categoría\"+str(x+1))"
   ]
  },
  {
   "cell_type": "code",
   "execution_count": 7,
   "metadata": {},
   "outputs": [
    {
     "name": "stdout",
     "output_type": "stream",
     "text": [
      "Platzi cuenta con cursos de: ['categoría1', 'categoría2', 'categoría3', 'categoría4', 'categoría5', 'categoría6']\n"
     ]
    }
   ],
   "source": [
    "print('Platzi cuenta con cursos de:', ['categoría'+str(x) for x in range(1,7)])"
   ]
  },
  {
   "cell_type": "code",
   "execution_count": 3,
   "metadata": {},
   "outputs": [
    {
     "name": "stdout",
     "output_type": "stream",
     "text": [
      "Hola, con esta calculadora puedes sumar hasta dos numeros.\n",
      "Escriba el primer número que quiere sumar: 88\n",
      "Escriba el segundo número que quiere sumar: 13\n",
      "El resultado es: 101.0\n"
     ]
    }
   ],
   "source": [
    "# Reto #4 “Suma de enteros”\n",
    "# Instrucciones: otro clásico conocido, donde pedirás al usuario que ingrese 2 números y muestre en pantalla el resultado.\n",
    "# Si quieres añadir más dificultad puedes utilizar números con punto decimal y especificar el número de decimales después\n",
    "# del punto.\n",
    "# Ejemplo: 2.5633 + 5.6883 = 8.25\n",
    "\n",
    "print('Hola, con esta calculadora puedes sumar hasta dos numeros.')\n",
    "num_1 = float(input('Escriba el primer número que quiere sumar: '))\n",
    "num_2 = float(input('Escriba el segundo número que quiere sumar: '))\n",
    "result = num_1 + num_2\n",
    "print(f'El resultado es: {result}')"
   ]
  },
  {
   "cell_type": "code",
   "execution_count": 26,
   "metadata": {},
   "outputs": [
    {
     "name": "stdout",
     "output_type": "stream",
     "text": [
      "Hola, con esta calculadora puedes sumar hasta dos numeros.\n",
      "Escriba el primer número que quiere sumar: 2.5633\n",
      "Escriba el segundo número que quiere sumar: 5.6883\n",
      "El resultado es: 8.25\n"
     ]
    }
   ],
   "source": [
    "# Nota: No funciona con numeros grandes, .format en este caso permitira escribir hasta 3 numeros\n",
    "\n",
    "print('Hola, con esta calculadora puedes sumar hasta dos numeros.')\n",
    "num_1 = float(input('Escriba el primer número que quiere sumar: '))\n",
    "num_2 = float(input('Escriba el segundo número que quiere sumar: '))\n",
    "result = num_1 + num_2\n",
    "print('El resultado es:' , \"{0:.3}\".format(result))"
   ]
  },
  {
   "cell_type": "code",
   "execution_count": 4,
   "metadata": {},
   "outputs": [
    {
     "name": "stdout",
     "output_type": "stream",
     "text": [
      "Hola, con esta calculadora puedes hacer la siguiente operación: w = (x + y) * z\n",
      "Escriba el primer número que quiere sumar: 3\n",
      "Escriba el segundo número que quiere sumar: 2\n",
      "Escriba el número que multiplicara su suma: 4\n",
      "El resultado es: 20.0\n"
     ]
    }
   ],
   "source": [
    "# Reto #5 “Suma y multiplicación”\n",
    "# Instrucciones: añadiendo un extra al reto anterior ahora el usuario ingresará 3 números,\n",
    "# sumarás los 2 primeros y el resultado será multiplicado por el tercero. Añade las consideraciones\n",
    "# del punto decimal del reto anterior.\n",
    "# Ejemplo:\n",
    "# Datos de entrada:2, 3, 4\n",
    "# Resultado:20\n",
    "\n",
    "print('Hola, con esta calculadora puedes hacer la siguiente operación: w = (x + y) * z')\n",
    "num_x = float(input('Escriba el primer número que quiere sumar: '))\n",
    "num_y = float(input('Escriba el segundo número que quiere sumar: '))\n",
    "num_z = float(input('Escriba el número que multiplicara su suma: '))\n",
    "result = (num_x + num_y) * num_z\n",
    "print(f'El resultado es: {result}')"
   ]
  },
  {
   "cell_type": "code",
   "execution_count": 6,
   "metadata": {},
   "outputs": [
    {
     "name": "stdout",
     "output_type": "stream",
     "text": [
      "Hey ¿cuántas pizzas llevaste a la fiesta? 4\n",
      "Escribe yes en caso de que tus pizzas fueran de 8 rebanadas, escribe nou en el caso contrario: no\n",
      "Escribe la cantidad de rebanadas que había en una pizza: 12\n",
      "¿cuántas rebanadas se comieron en la fiesta? 5\n",
      "¡Aún quedan 43 rebanadas o sea 3.5833333333333335 pizza(s)!\n"
     ]
    }
   ],
   "source": [
    "# Reto #6 “Resta de pizzas”\n",
    "# Instrucciones: llegaste a una fiesta con X cantidad de rebanadas de pizza (indicadas por el usuario),\n",
    "# después de un rato se consumió Y cantidad de rebanadas y quedan Z. Fácil ¿cierto?\n",
    "# El reto está en que expreses lo que sucede es una forma comprensible para cualquier persona,\n",
    "# imprescindible pensar en tus usuarios 😉\n",
    "\n",
    "num_pizzas = int(input('Hey ¿cuántas pizzas llevaste a la fiesta? '))\n",
    "num_rebanadas = input('Escribe yes en caso de que tus pizzas fueran de 8 rebanadas, escribe nou en el caso contrario: ')\n",
    "if num_rebanadas == 'yes':\n",
    "    num_rebanadas = 8\n",
    "else:\n",
    "    num_rebanadas = (int(input('Escribe la cantidad de rebanadas que había en una pizza: ')))\n",
    "\n",
    "num_rebanadas_comieron = int(input('¿cuántas rebanadas se comieron en la fiesta? '))\n",
    "rebanadas_sobrantes = (num_pizzas * num_rebanadas) - num_rebanadas_comieron\n",
    "pizzas_sobrantes = rebanadas_sobrantes / num_rebanadas\n",
    "\n",
    "print(f'¡Aún quedan {rebanadas_sobrantes} rebanadas o sea {pizzas_sobrantes} pizza(s)!')"
   ]
  },
  {
   "cell_type": "code",
   "execution_count": 2,
   "metadata": {},
   "outputs": [
    {
     "name": "stdout",
     "output_type": "stream",
     "text": [
      "Hola ¿cómo te llamas? Leticia\n",
      "¿cuántos años tienes? 99\n",
      "Leticia, el año pasado tenías 98 y el próximo año tendrás 100 años.\n"
     ]
    }
   ],
   "source": [
    "# Reto #7 “Edad futura y pasada”\n",
    "# Instrucciones: pide al usuario que indique su nombre y su edad. Como mensaje de salida le indicarás\n",
    "# que edad tuvo el año pasado y cuantos años tendrá el siguiente año.\n",
    "# Ejemplo: [nombre] el año pasado tenías X años y el próximo año cumplirás Y años.\n",
    "\n",
    "nombre, edad = input('Hola ¿cómo te llamas? '), int(input('¿cuántos años tienes? '))\n",
    "print(f'{nombre}, el año pasado tenías {edad-1} y el próximo año tendrás {edad+1} años.')"
   ]
  },
  {
   "cell_type": "code",
   "execution_count": null,
   "metadata": {
    "collapsed": true
   },
   "outputs": [],
   "source": []
  }
 ],
 "metadata": {
  "kernelspec": {
   "display_name": "Python 3",
   "language": "python",
   "name": "python3"
  },
  "language_info": {
   "codemirror_mode": {
    "name": "ipython",
    "version": 3
   },
   "file_extension": ".py",
   "mimetype": "text/x-python",
   "name": "python",
   "nbconvert_exporter": "python",
   "pygments_lexer": "ipython3",
   "version": "3.6.3"
  }
 },
 "nbformat": 4,
 "nbformat_minor": 2
}
