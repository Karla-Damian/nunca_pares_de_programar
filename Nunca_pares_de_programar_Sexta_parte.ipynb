{
 "cells": [
  {
   "cell_type": "markdown",
   "metadata": {},
   "source": [
    "### Reto #1 - Suma hasta cincuenta\n",
    "Crea una variable que se llame total, después pide a tu usuario que ingrese un número y lo sume al valor de total. Haz que esto se repita hasta que el valor de total sea mayor a 50 y muestra el resultado en pantalla."
   ]
  },
  {
   "cell_type": "code",
   "execution_count": 9,
   "metadata": {},
   "outputs": [
    {
     "name": "stdout",
     "output_type": "stream",
     "text": [
      "Ingresa un número para sumarlo al total: 34.5\n",
      "Suma total = 34.5\n",
      "Ingresa un número para sumarlo al total: 8\n",
      "Suma total = 42.5\n",
      "Ingresa un número para sumarlo al total: 0.5\n",
      "Suma total = 43.0\n",
      "Ingresa un número para sumarlo al total: 7\n",
      "Suma total = 50.0\n",
      "Ingresa un número para sumarlo al total: 2\n",
      "Suma total = 52.0\n",
      "¡La suma ya es mayor que 50!.\n",
      "Suma final: 52.0\n"
     ]
    }
   ],
   "source": [
    "total = 0\n",
    "while total <= 50:\n",
    "    user_num = float(input('Ingresa un número para sumarlo al total: '))\n",
    "    total += user_num\n",
    "    print(f'Suma total = {total}')\n",
    "print('¡La suma ya es mayor que 50!.')\n",
    "print(f'Suma final: {total}')"
   ]
  },
  {
   "cell_type": "markdown",
   "metadata": {},
   "source": [
    "### Reto #2 - Más allá del cuarenta y dos\n",
    "Crea un código que pida al usuario un número y se repita hasta que coloque un número mayor a 42. Cuando se cumpla esta condición muestra el resultado en pantalla indicando esto al usuario y finaliza el ciclo."
   ]
  },
  {
   "cell_type": "code",
   "execution_count": 11,
   "metadata": {},
   "outputs": [
    {
     "name": "stdout",
     "output_type": "stream",
     "text": [
      "Escriba un número: -5\n",
      "Escriba un número: 10\n",
      "Escriba un número: 42\n",
      "Escriba un número: 88\n",
      "¡Escribió un número mayor a 42!\n"
     ]
    }
   ],
   "source": [
    "user_num = float(input('Escriba un número: '))\n",
    "while user_num <= 42:\n",
    "    user_num = float(input('Escriba un número: '))\n",
    "print(f'¡Escribió un número mayor a 42!')"
   ]
  },
  {
   "cell_type": "markdown",
   "metadata": {},
   "source": [
    "### Reto #3 - Sumas consecutivas\n",
    "Pide al usuario que ingrese dos números y los sume. Después pregunta si quiere añadir otro número: si la respuesta es afirmativa añádelo al total; en caso contrario finaliza el ciclo y muestra el resultado total en pantalla."
   ]
  },
  {
   "cell_type": "code",
   "execution_count": 14,
   "metadata": {},
   "outputs": [
    {
     "name": "stdout",
     "output_type": "stream",
     "text": [
      "Escriba dos números para sumarlos.\n",
      "Primer número: 77\n",
      "Segundo número: 44\n",
      "¿Quiere añadir otro número? sí\n",
      "Escriba un número: 22\n",
      "¿Quiere añadir otro número? no\n",
      "Total = 143.0\n"
     ]
    }
   ],
   "source": [
    "print('Escriba dos números para sumarlos.')\n",
    "user_num1 = float(input('Primer número: '))\n",
    "user_num2 = float(input('Segundo número: '))\n",
    "suma = user_num1 + user_num2\n",
    "user_answer = input('¿Quiere añadir otro número? ')\n",
    "\n",
    "while user_answer[0].lower() == 's':\n",
    "    user_num = float(input('Escriba un número: '))\n",
    "    suma += user_num\n",
    "    user_answer = input('¿Quiere añadir otro número? ')\n",
    "print(f'Total = {suma}')"
   ]
  },
  {
   "cell_type": "markdown",
   "metadata": {},
   "source": [
    "### Reto #4 - Lista de invitados\n",
    "Estás organizando un banquete al que quieres invitar a tus amigos. Crea un programa que pida el nombre de uno de tus amigos, al hacerlo aumenta en uno una variable contadora, después pregunta si quieres invitar a alguien más: si la respuesta es afirmativa entonces pregunta por una persona más; en caso contrario cierra el ciclo y muestra en pantalla cuantos invitados son."
   ]
  },
  {
   "cell_type": "code",
   "execution_count": 18,
   "metadata": {},
   "outputs": [
    {
     "name": "stdout",
     "output_type": "stream",
     "text": [
      "¿Cómo se llama tu invitado? K\n",
      "¿Quieres añadir otro invitado? [SI] [NO]si\n",
      "¿Cómo se llama tu invitado? Fa\n",
      "¿Quieres añadir otro invitado? [SI] [NO]si\n",
      "¿Cómo se llama tu invitado? Sofi\n",
      "¿Quieres añadir otro invitado? [SI] [NO]no\n",
      "Haz invitado a 3 personas\n",
      "['K', 'Fa', 'Sofi']\n"
     ]
    }
   ],
   "source": [
    "lista_invitados = []\n",
    "n = 1\n",
    "invitado = input('¿Cómo se llama tu invitado? ')\n",
    "lista_invitados.append(invitado)\n",
    "user_answer = input('¿Quieres añadir otro invitado? [SI] [NO]')\n",
    "\n",
    "while user_answer[0].lower() == 's':\n",
    "    n += 1\n",
    "    invitado = input('¿Cómo se llama tu invitado? ')\n",
    "    lista_invitados.append(invitado)\n",
    "    user_answer = input('¿Quieres añadir otro invitado? [SI] [NO]')\n",
    "print(f'Haz invitado a {n} personas')\n",
    "print(lista_invitados)"
   ]
  },
  {
   "cell_type": "markdown",
   "metadata": {},
   "source": [
    "### Reto #5 - Adivina el número secreto\n",
    "Crea un programa donde tendrás la variable numero_secreto, la cual toma un valor aleatorio entre 1 y 100. Después pide a tu usuario que indique un número para intentar adivinarlo: en caso de acertar indícale cual era el número secreto y cuantos intentos le tomó; en caso contrario indícale si el número ingresado es mayor o menor al número secreto."
   ]
  },
  {
   "cell_type": "code",
   "execution_count": 27,
   "metadata": {},
   "outputs": [
    {
     "name": "stdout",
     "output_type": "stream",
     "text": [
      "Escriba un número entero entre 1-100 para intentar adivinar: 50\n",
      "Vuelva a intentar:25\n",
      "Vuelva a intentar:75\n",
      "Vuelva a intentar:100\n",
      "Vuelva a intentar:1\n",
      "Vuelva a intentar:12\n",
      "Vuelva a intentar:63\n",
      "Vuelva a intentar:33\n",
      "Vuelva a intentar:58\n",
      "Vuelva a intentar:99\n",
      "Vuelva a intentar:77\n",
      "Vuelva a intentar:2\n",
      "Vuelva a intentar:3\n",
      "Vuelva a intentar:4\n",
      "Vuelva a intentar:5\n",
      "Vuelva a intentar:6\n",
      "Vuelva a intentar:7\n",
      "Vuelva a intentar:8\n",
      "Vuelva a intentar:9\n",
      "Vuelva a intentar:10\n",
      "Vuelva a intentar:11\n",
      "Vuelva a intentar:12\n",
      "Vuelva a intentar:13\n",
      "Vuelva a intentar:14\n",
      "Vuelva a intentar:15\n",
      "Vuelva a intentar:16\n",
      "Vuelva a intentar:17\n",
      "Vuelva a intentar:18\n",
      "Vuelva a intentar:19\n",
      "Vuelva a intentar:20\n",
      "Vuelva a intentar:21\n",
      "Vuelva a intentar:22\n",
      "Vuelva a intentar:23\n",
      "Vuelva a intentar:24\n",
      "Vuelva a intentar:26\n",
      "Vuelva a intentar:27\n",
      "Vuelva a intentar:28\n",
      "Vuelva a intentar:29\n",
      "Vuelva a intentar:30\n",
      "Vuelva a intentar:31\n",
      "Vuelva a intentar:32\n",
      "Vuelva a intentar:33\n",
      "Vuelva a intentar:34\n",
      "Vuelva a intentar:35\n",
      "Vuelva a intentar:36\n",
      "Vuelva a intentar:37\n",
      "Vuelva a intentar:38\n",
      "Vuelva a intentar:39\n",
      "Vuelva a intentar:40\n",
      "Vuelva a intentar:41\n",
      "Vuelva a intentar:42\n",
      "Vuelva a intentar:43\n",
      "Vuelva a intentar:44\n",
      "Vuelva a intentar:45\n",
      "Vuelva a intentar:46\n",
      "Vuelva a intentar:47\n",
      "¡Adivinó! El número secreto es 47 y le tomó 56 intentos.\n"
     ]
    }
   ],
   "source": [
    "import random\n",
    "\n",
    "numero_secreto = random.randint(1, 100)\n",
    "user_num = int(input('Escriba un número entero entre 1-100 para intentar adivinar: '))\n",
    "n = 1\n",
    "while user_num != numero_secreto:\n",
    "    n += 1\n",
    "    user_num = int(input('Vuelva a intentar:'))\n",
    "print(f'¡Adivinó! El número secreto es {numero_secreto} y le tomó {n} intentos.')"
   ]
  },
  {
   "cell_type": "markdown",
   "metadata": {},
   "source": [
    "### Reto #6 - “Un elefante se balanceaba…”\n",
    "Escribe un programa que inicie mostrando en pantalla la letra de “Un elefante se balanceaba” iniciando con el número 1, después pregunta al usuario cuantos elefantes más se balancearán y debe responder un número más al mostrado. En caso de ingresar un número diferente pedirle que intente de nuevo y repetir el ciclo hasta tener 10 elefantes.\n",
    "Tomar en cuenta cuando el texto muestra un solo elefante y varios elefantes.\n",
    "Ejemplo de inicio:  \n",
    "1 elefante se balanceaba  \n",
    "Sobre la tela de una arañ**a**  \n",
    "Como veí**a** que resistí**a**  \n",
    "Fueron **a** llamar otro elefante  "
   ]
  },
  {
   "cell_type": "code",
   "execution_count": 4,
   "metadata": {},
   "outputs": [
    {
     "name": "stdout",
     "output_type": "stream",
     "text": [
      "1 elefante se balanceaba \n",
      "Sobre la tela de una araña \n",
      "Como veía que resistía \n",
      "Fue a llamar otro elefante.\n",
      "¿Cuántos elefantes van a balancearse? 2\n",
      "2 elefantes se balanceaban \n",
      "Sobre la tela de una araña \n",
      "Como veían que resistía \n",
      "Fueron a llamar otro elefante.\n",
      "¿Cuántos elefantes van a balancearse? 4\n",
      "Error, van a ser 3.\n",
      "3 elefantes se balanceaban \n",
      "Sobre la tela de una araña \n",
      "Como veían que resistía \n",
      "Fueron a llamar otro elefante.\n",
      "¿Cuántos elefantes van a balancearse? 3\n",
      "Error, van a ser 4.\n",
      "4 elefantes se balanceaban \n",
      "Sobre la tela de una araña \n",
      "Como veían que resistía \n",
      "Fueron a llamar otro elefante.\n",
      "¿Cuántos elefantes van a balancearse? 5\n",
      "5 elefantes se balanceaban \n",
      "Sobre la tela de una araña \n",
      "Como veían que resistía \n",
      "Fueron a llamar otro elefante.\n",
      "¿Cuántos elefantes van a balancearse? 6\n",
      "6 elefantes se balanceaban \n",
      "Sobre la tela de una araña \n",
      "Como veían que resistía \n",
      "Fueron a llamar otro elefante.\n",
      "¿Cuántos elefantes van a balancearse? 7\n",
      "7 elefantes se balanceaban \n",
      "Sobre la tela de una araña \n",
      "Como veían que resistía \n",
      "Fueron a llamar otro elefante.\n",
      "¿Cuántos elefantes van a balancearse? 8\n",
      "8 elefantes se balanceaban \n",
      "Sobre la tela de una araña \n",
      "Como veían que resistía \n",
      "Fueron a llamar otro elefante.\n",
      "¿Cuántos elefantes van a balancearse? 9\n",
      "9 elefantes se balanceaban \n",
      "Sobre la tela de una araña \n",
      "Como veían que resistía \n",
      "Fueron a llamar otro elefante.\n",
      "¿Cuántos elefantes van a balancearse? 10\n",
      "10 elefantes se balanceaban \n",
      "Sobre la tela de una araña \n",
      "Como veían que resistía \n",
      "Fueron a llamar otro elefante.\n"
     ]
    }
   ],
   "source": [
    "elefantes = 1\n",
    "cancion = str(elefantes) + ' elefante se balanceaba \\nSobre la tela de una araña \\nComo veía que resistía \\nFue a llamar otro elefante.'\n",
    "print(cancion)\n",
    "\n",
    "while elefantes < 10:\n",
    "    elefantes = elefantes+1\n",
    "    user_elephant = int(input('¿Cuántos elefantes van a balancearse? '))\n",
    "    if user_elephant == elefantes:\n",
    "        cancion = str(elefantes) + ' elefantes se balanceaban \\nSobre la tela de una araña \\nComo veían que resistía \\nFueron a llamar otro elefante.'\n",
    "        print(cancion)\n",
    "#     elif user_elephant != elefantes:\n",
    "    else:\n",
    "        print(f'Error, van a ser {elefantes}.')\n",
    "        cancion = str(elefantes) + ' elefantes se balanceaban \\nSobre la tela de una araña \\nComo veían que resistía \\nFueron a llamar otro elefante.'\n",
    "        print(cancion)"
   ]
  },
  {
   "cell_type": "code",
   "execution_count": null,
   "metadata": {
    "collapsed": true
   },
   "outputs": [],
   "source": []
  }
 ],
 "metadata": {
  "kernelspec": {
   "display_name": "Python 3",
   "language": "python",
   "name": "python3"
  },
  "language_info": {
   "codemirror_mode": {
    "name": "ipython",
    "version": 3
   },
   "file_extension": ".py",
   "mimetype": "text/x-python",
   "name": "python",
   "nbconvert_exporter": "python",
   "pygments_lexer": "ipython3",
   "version": "3.6.3"
  }
 },
 "nbformat": 4,
 "nbformat_minor": 2
}
