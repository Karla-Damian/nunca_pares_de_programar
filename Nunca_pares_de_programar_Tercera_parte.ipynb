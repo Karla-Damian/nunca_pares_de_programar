{
 "cells": [
  {
   "cell_type": "code",
   "execution_count": 14,
   "metadata": {},
   "outputs": [
    {
     "name": "stdout",
     "output_type": "stream",
     "text": [
      "Hola, por favor escribe el nombre de tu curso favorito: Introducción al pensamiento computacional con Python\n",
      "El nombre de tu curso tiene 47 letras\n"
     ]
    }
   ],
   "source": [
    "# Reto #1 Longitud del string\n",
    "# Pide a tu usuario que ingrese el nombre de su curso favorito, obtén la longitud de ese string y muéstralo en pantalla.\n",
    "\n",
    "def lon_str(curs_fav):\n",
    "    curs_fav_sin_espacios = curs_fav.replace(' ', '')\n",
    "    long = len(curs_fav_sin_espacios)\n",
    "    print(f'El nombre de tu curso tiene {long} letras')\n",
    "\n",
    "curs_fav = input('Hola, por favor escribe el nombre de tu curso favorito: ')\n",
    "\n",
    "lon_str(curs_fav)"
   ]
  },
  {
   "cell_type": "code",
   "execution_count": 6,
   "metadata": {},
   "outputs": [
    {
     "name": "stdout",
     "output_type": "stream",
     "text": [
      "Hola ¿cuál es tu nombre? Ivon\n",
      "¿Cuál es tu apellido? Damian\n",
      "¿cuál es tu comida favorita? pizza!\n",
      "Hola, mi nombre es Ivon Damian y mi comida favorita es pizza!.\n"
     ]
    }
   ],
   "source": [
    "# Reto #2 ‘Suma’ de strings\n",
    "# Crea un programa en el que le pidas en 3 variables distintas: nombre, apellido y comida favorita.\n",
    "# Como salida mostrarás el mensaje Hola, mi nombres es {nombre} {apellido} y mi comida favorita es {comida} en un solo string.\n",
    "\n",
    "nombre, apellido = input('Hola ¿cuál es tu nombre? '), input('¿Cuál es tu apellido? ')\n",
    "comida = input('¿cuál es tu comida favorita? ')\n",
    "\n",
    "print(f'Hola, mi nombre es {nombre} {apellido} y mi comida favorita es {comida}.')"
   ]
  },
  {
   "cell_type": "code",
   "execution_count": 15,
   "metadata": {},
   "outputs": [
    {
     "name": "stdout",
     "output_type": "stream",
     "text": [
      "Por favor, ingrese los siguientes datos escritos en minúsculas.\n",
      "Nombre: karla\n",
      "Apellido: ramírez\n",
      "País de origen: méxico\n",
      "Su nombre es Karla Ramírez y su país de origen es México.\n"
     ]
    }
   ],
   "source": [
    "# Reto #3 Ajusta las iniciales\n",
    "# Ahora, pedirás a tu usuario que ingrese su nombre, apellido y país de origen en minúsculas.\n",
    "# Después mostrarás los datos de salida con mayúscula inicial al tratarse de nombres propios.\n",
    "\n",
    "def let_cap(nombre, apellido, pais):    \n",
    "    print(f'Su nombre es {nombre.capitalize()} {apellido.capitalize()} y su país de origen es {pais.capitalize()}.')\n",
    "\n",
    "print('Por favor, ingrese los siguientes datos escritos en minúsculas.')\n",
    "nombre = input('Nombre: ')\n",
    "apellido = input('Apellido: ')\n",
    "pais = input('País de origen: ')\n",
    "\n",
    "let_cap(nombre, apellido, pais)"
   ]
  },
  {
   "cell_type": "code",
   "execution_count": 22,
   "metadata": {},
   "outputs": [
    {
     "name": "stdout",
     "output_type": "stream",
     "text": [
      "Escribe una oración de 10 o más caractereres¿Qué es la vida? Un frenesí\n",
      "Escriba dos números entre 0 y 27.\n",
      "Primer número: 7\n",
      "Segundo número: 17\n",
      " la vida? \n"
     ]
    }
   ],
   "source": [
    "# Reto #4 String fragmentado\n",
    "# Pongámonos más exigentes 💥\n",
    "# Solicita a tu usuario que indique una oración de 10 o más caracteres,\n",
    "# la línea de un poema o canción funcioona excelente. Calcula la longitud del string,\n",
    "# pide un número de rango inicial y final que esté entre la longitud del string para\n",
    "# al final mostrar el fragmento que incluya los caracteres en ese intervalo.\n",
    "\n",
    "def str_frag(sentence):\n",
    "    long_sentence = len(sentence)\n",
    "    print(f'Escriba dos números entre 0 y {long_sentence}.')\n",
    "    rang_ini = int(input('Primer número: '))\n",
    "    rang_fin = int(input('Segundo número: '))\n",
    "    print(sentence[rang_ini : rang_fin])\n",
    "    \n",
    "user_sentence = input('Escribe una oración de 10 o más caractereres')\n",
    "str_frag(user_sentence)"
   ]
  },
  {
   "cell_type": "code",
   "execution_count": 27,
   "metadata": {},
   "outputs": [
    {
     "name": "stdout",
     "output_type": "stream",
     "text": [
      "Por favor, ingrese dos palabras.\n",
      "Primera palabra: ramen\n",
      "Segunda palabra: hambre\n",
      "RAMEN hambre\n"
     ]
    }
   ],
   "source": [
    "# Reto #5 Mayúsculas y minúsculas\n",
    "# Solicita a tu usuario que indique 2 palabras, donde al mostrarlas en pantalla una estará totalmente\n",
    "# en mayúsculas y otra en minúsculas ¿fácil, no?\n",
    "\n",
    "def mayusc_minusc(palabra_1, palabra_2):\n",
    "    mayusculas = palabra_1.upper()\n",
    "    minusculas = palabra_2.lower()\n",
    "    print(mayusculas, minusculas)\n",
    "    \n",
    "print('Por favor, ingrese dos palabras.')\n",
    "palabra_1 = input('Primera palabra: ')\n",
    "palabra_2 = input('Segunda palabra: ')\n",
    "\n",
    "mayusc_minusc(palabra_1, palabra_2)"
   ]
  },
  {
   "cell_type": "code",
   "execution_count": 32,
   "metadata": {},
   "outputs": [
    {
     "name": "stdout",
     "output_type": "stream",
     "text": [
      "Escriba su nombre: leo\n",
      "Escribe tu apellido: diaz\n",
      "Hola, Leo Diaz\n"
     ]
    }
   ],
   "source": [
    "# Reto #6 Nombres cortos y largos\n",
    "# Ya sabemos trabajar con nombres ¿pero qué pasa si cumple ciertas cualidades?\n",
    "# Tu usuario ingresará su nombre, si tiene una longitud mayor a 5 caracteres\n",
    "# mostrarás un saludo con su nombre en pantalla. Si tiene menos de 5 caracteres,\n",
    "# pedirás su apellido, mostrarás el saludo con nombre y apellido.\n",
    "# En ambos casos deberás mostrarlos con mayúscula inicial.\n",
    "\n",
    "def name_short_long(name):\n",
    "    long_name = len(name)\n",
    "    \n",
    "    if long_name <= 5:\n",
    "        last_name = input('Escribe tu apellido: ')\n",
    "        print(f'Hola, {name.capitalize()} {last_name.capitalize()}')\n",
    "    else:\n",
    "        print(f'¡Hola, {name.capitalize()}! Ten un buen día.')\n",
    "\n",
    "user_name = input('Escriba su nombre: ')\n",
    "name_short_long(user_name)"
   ]
  },
  {
   "cell_type": "code",
   "execution_count": 21,
   "metadata": {},
   "outputs": [
    {
     "name": "stdout",
     "output_type": "stream",
     "text": [
      "Escriba una palabra: KARLA\n",
      "Arlakay\n"
     ]
    }
   ],
   "source": [
    "# Reto #7 ¡Hablemos Pig Latin! (Puerco Latino) 🐷\n",
    "# Solo una cosa, pide a tu usuario que ingrese una palabra y tradúcela a Pig Latin.\n",
    "# Espera ¡¿qué?!\n",
    "# PuercoLatino es como el idioma de la “efe”, donde cambiamos las palabras bajo ciertas condiciones. En este caso será así:\n",
    "# La primer consonante de una palabra se pasa al final y se agrega la sílaba “ay”.\n",
    "# Si una palabra inicia con vocal, se agrega “way” al final.\n",
    "\n",
    "# Ejemplos:\n",
    "\n",
    "# Platzi 👉 Latzipay\n",
    "# Abeja 👉 Abejaway\n",
    "\n",
    "def pig_latin(palabra):\n",
    "    palabra_min = palabra.lower()\n",
    "    \n",
    "    if palabra_min[0] == 'a' or palabra_min[0] == 'e' or palabra_min[0] == 'i' or palabra_min[0] == 'o' or palabra_min[0] == 'u':\n",
    "        print(palabra_min.capitalize()+'way')\n",
    "    else:\n",
    "        print(palabra_min[1:].capitalize() + palabra_min[0] + 'ay')\n",
    "\n",
    "palabra_usuario = input('Escriba una palabra: ')\n",
    "pig_latin(palabra_usuario)"
   ]
  },
  {
   "cell_type": "code",
   "execution_count": null,
   "metadata": {
    "collapsed": true
   },
   "outputs": [],
   "source": []
  }
 ],
 "metadata": {
  "kernelspec": {
   "display_name": "Python 3",
   "language": "python",
   "name": "python3"
  },
  "language_info": {
   "codemirror_mode": {
    "name": "ipython",
    "version": 3
   },
   "file_extension": ".py",
   "mimetype": "text/x-python",
   "name": "python",
   "nbconvert_exporter": "python",
   "pygments_lexer": "ipython3",
   "version": "3.6.3"
  }
 },
 "nbformat": 4,
 "nbformat_minor": 2
}
