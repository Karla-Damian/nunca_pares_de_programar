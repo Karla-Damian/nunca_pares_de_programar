{
 "cells": [
  {
   "cell_type": "code",
   "execution_count": 9,
   "metadata": {},
   "outputs": [
    {
     "name": "stdout",
     "output_type": "stream",
     "text": [
      "Hola, escribe un número: 44\n",
      "Escribe otro número: 44\n",
      "Los números son iguales\n"
     ]
    }
   ],
   "source": [
    "# Reto #1 - Número mayor y menor\n",
    "# Escribe un programa que pida al usuario 2 números, mostrando como salida cuál es el número mayor\n",
    "# y la diferencia de uno respecto al otro. En caso de que los números sean iguales, mostrarlo también en pantalla.\n",
    "\n",
    "num_1, num_2 = int(input('Hola, escribe un número: ')), int(input('Escribe otro número: '))\n",
    "\n",
    "if num_1 < num_2:\n",
    "    print(f'{num_2} es mayor que {num_1} por {num_2-num_1} unidades.')\n",
    "    \n",
    "elif num_1 > num_2:\n",
    "    print(f'{num_1} es mayor que {num_2} por {num_1-num_2} unidades.')\n",
    "    \n",
    "else:\n",
    "    print(f'Los números son iguales')"
   ]
  },
  {
   "cell_type": "code",
   "execution_count": 14,
   "metadata": {
    "scrolled": true
   },
   "outputs": [
    {
     "name": "stdout",
     "output_type": "stream",
     "text": [
      "Hola, escribe un número para definir el límite: 0\n",
      "Escribe otro número para comparar: 44\n",
      "El número 44 excede el límite permitido\n"
     ]
    }
   ],
   "source": [
    "# Reto #2 - En el rango, por favor.\n",
    "# Pide al usuario que indique 2 números: uno que servirá como límite y otro para comparar.\n",
    "# Si el segundo número es menor al primero, mostrarás un mensaje diciendo\n",
    "# “El número ‘x’ se encuentra en el rango, gracias” y en caso contrario dirá “El número ‘x’ excede el límite permitido”.\n",
    "\n",
    "limite = int(input('Hola, escribe un número para definir el límite: '))\n",
    "numero = int(input('Escribe otro número para comparar: '))\n",
    "\n",
    "if limite > numero:\n",
    "    print(f'El número {numero} se encuentra en el rango, gracias.')\n",
    "    \n",
    "elif limite < numero:\n",
    "    print(f'El número {numero} excede el límite permitido')\n",
    "    \n",
    "else:\n",
    "    print(f'Los números son iguales')"
   ]
  },
  {
   "cell_type": "code",
   "execution_count": 23,
   "metadata": {},
   "outputs": [
    {
     "name": "stdout",
     "output_type": "stream",
     "text": [
      "Hola, escribe un número para definir el límite superior: 50\n",
      "Escribe un número para definir el límite inferior: 0\n",
      "Escribe un número para comparar: 88\n",
      "El número 88 se encuentra fuera del rango permitido.\n"
     ]
    }
   ],
   "source": [
    "# Reto #3 - Rangos cambiantes.\n",
    "# Nuevamente pide a tu usuario que indique 3 números: un límite superior, un límite inferior y uno de comparación. \n",
    "# Si el número de comparación se encuentra entre los 2 primeros, comunicarlo en pantalla.\n",
    "# En caso estar por debajo del límite inferior o por arriba del límite superior, también mostrarlo en pantalla.\n",
    "\n",
    "limite_sup = int(input('Hola, escribe un número para definir el límite superior: '))\n",
    "limite_inf = int(input('Escribe un número para definir el límite inferior: '))\n",
    "numero = int(input('Escribe un número para comparar: '))\n",
    "\n",
    "if limite_sup > numero > limite_inf:\n",
    "    print(f'El número {numero} se encuentra dentro del rango permitido.')\n",
    "    \n",
    "elif numero > limite_sup or numero < limite_inf:\n",
    "    print(f'El número {numero} se encuentra fuera del rango permitido.')\n",
    "    \n",
    "else:\n",
    "    print(f'Error!!')"
   ]
  },
  {
   "cell_type": "code",
   "execution_count": 23,
   "metadata": {},
   "outputs": [
    {
     "name": "stdout",
     "output_type": "stream",
     "text": [
      "¿Cuál es tu animal favorito? LAS TORTUGAS!!!\n",
      "¡También me gustan las tortugas\n"
     ]
    }
   ],
   "source": [
    "# Reto #4 - “I like turtles”\n",
    "# Escribe un programa que pida al usuario ingrese su animal favorito, si coloca ‘Tortuga’, ‘tortuga’, ‘TORTUGA’\n",
    "# o cualquier otra variante de la palabra entonces mostrar en pantalla “También me gustan las tortugas”.\n",
    "# En caso contrario mostrar el mensaje “Ese animal es genial, pero prefiero las tortugas”.\n",
    "\n",
    "animal = input('¿Cuál es tu animal favorito? ')\n",
    "animal_min = animal.lower()\n",
    "buscador = animal_min.find('tortu')\n",
    "               \n",
    "if animal_min[buscador:buscador+5] == 'tortu':\n",
    "    print('¡También me gustan las tortugas')\n",
    "else:\n",
    "    print('Ese animal es genial pero prefiero las tortugas.')"
   ]
  },
  {
   "cell_type": "code",
   "execution_count": 30,
   "metadata": {},
   "outputs": [
    {
     "name": "stdout",
     "output_type": "stream",
     "text": [
      "Hola ¿hoy está lloviendo? SÍ\n",
      "¿También hay mucho viento? SI\n",
      "Con tanto viento es recomendable no salir con sombrilla a la calle, considere otra opción.\n"
     ]
    }
   ],
   "source": [
    "# Reto #5 - ¿Cómo está el clima?\n",
    "# Crea un programa que pregunte al usuario si está lloviendo, en caso de responder “sí”\n",
    "# pregunta si está haciendo mucho viento y si responde “sí” nuevamente muestra un mensaje\n",
    "# indicando que hace mucho viento para salir con una sombrilla. En caso contrario,\n",
    "# anima al usuario a que lleve una sombrilla. Para el caso de responder “no” en la primer pregunta,\n",
    "# entonces solo desea un bonito día.\n",
    "# Considera que las respuestas pueden pasarse a minúsculas para evitar posibles errores.\n",
    "\n",
    "answer_rain = input('Hola ¿hoy está lloviendo? ')\n",
    "answer_rain_min = answer_rain.lower()\n",
    "\n",
    "if answer_rain_min == 'si' or answer_rain_min == 'sí':\n",
    "    answer_wind = input('¿También hay mucho viento? ')\n",
    "    answer_wind_min = answer_wind.lower()\n",
    "    \n",
    "    if answer_wind_min == 'si' or answer_wind_min == 'sí':\n",
    "        print('Con tanto viento es recomendable no salir con sombrilla a la calle, considere otra opción.')\n",
    "    else:\n",
    "        print('¡No olvide llevar una sombrilla con usted!')\n",
    "else:\n",
    "    print('¡Tenga una gran día!')"
   ]
  },
  {
   "cell_type": "code",
   "execution_count": 38,
   "metadata": {},
   "outputs": [
    {
     "name": "stdout",
     "output_type": "stream",
     "text": [
      "Hola ¿cuántos años tienes? 18\n",
      "Es un momento excelente para impulsar tu carrera.\n"
     ]
    }
   ],
   "source": [
    "# Reto #6 - Edad permitida\n",
    "# Pide al usuario que ingrese su edad y mostrarás un mensaje correspondiente si esta coincide con las siguientes condiciones:\n",
    "# Más de 30 años: Nunca es tarde para aprender ¿Qué curso tomaremos?\n",
    "# Entre 29 y 18 años: Es un momento excelente para impulsar tu carrera.\n",
    "# Menos de 18 años: ¿Sabes hacia dónde dirigir tu futuro? Seguro puedo ayudarte.\n",
    "\n",
    "edad = int(input('Hola ¿cuántos años tienes? '))\n",
    "\n",
    "if edad >= 30:\n",
    "    print('Nunca es tarde para aprender ¿Qué curso tomaremos?')\n",
    "elif 29 >= edad >= 18:\n",
    "    print('Es un momento excelente para impulsar tu carrera.')\n",
    "else:\n",
    "    print('¿Sabes hacia dónde dirigir tu futuro? Seguro puedo ayudarte.')"
   ]
  },
  {
   "cell_type": "code",
   "execution_count": 46,
   "metadata": {},
   "outputs": [
    {
     "name": "stdout",
     "output_type": "stream",
     "text": [
      "Escribe un número entre 1 y 6: 58\n",
      "El número se encuentra fuera del rango\n",
      "Escribe un número entre 1 y 6: 17\n",
      "El número se encuentra fuera del rango\n",
      "Escribe un número entre 1 y 6: 2\n",
      "¿Qué tal tomar un curso de marketing digital?\n"
     ]
    }
   ],
   "source": [
    "# Crearás un un script para el que el usuario indicará un número entre 1 y 6.\n",
    "# Como respuesta se le brindará un mensaje según el número leido:\n",
    "# 1 - “Hoy aprenderemos sobre prorgamación”\n",
    "# 2 - “¿Qué tal tomar un curso de marketing digital?\n",
    "# 3 - “Hoy es un gran día para comenzar a aprender de diseño”\n",
    "# 4 - ¿Y si aprendemos algo de negocios online?\n",
    "# 5 - “Veamos un par de clases sobre producción audiovisual”\n",
    "# 6 - “Tal vez sea bueno desarrollar una habilidad blanda en Platzi”\n",
    "# En caso indicar un número distinto, pedir al usuario que ingrese uno en el rango válido.\n",
    "\n",
    "\n",
    "def user_num(num):\n",
    "    num = int(input('Escribe un número entre 1 y 6: '))\n",
    "\n",
    "    if num == 1:\n",
    "        print('Hoy aprenderemos sobre prorgamación.')\n",
    "    elif num == 2:\n",
    "        print('¿Qué tal tomar un curso de marketing digital?')\n",
    "    elif num == 3:\n",
    "        print('Hoy es un gran día para comenzar a aprender de diseño.')\n",
    "    elif num == 4:\n",
    "        print('¿Y si aprendemos algo de negocios online?')\n",
    "    elif num == 5:\n",
    "        print('Veamos un par de clases sobre producción audiovisual.')\n",
    "    elif num == 6:\n",
    "        print('Tal vez sea bueno desarrollar una habilidad blanda en Platzi')\n",
    "    else:\n",
    "        print('El número se encuentra fuera del rango')\n",
    "        user_num(0)\n",
    "        \n",
    "user_num(0)"
   ]
  }
 ],
 "metadata": {
  "kernelspec": {
   "display_name": "Python 3",
   "language": "python",
   "name": "python3"
  },
  "language_info": {
   "codemirror_mode": {
    "name": "ipython",
    "version": 3
   },
   "file_extension": ".py",
   "mimetype": "text/x-python",
   "name": "python",
   "nbconvert_exporter": "python",
   "pygments_lexer": "ipython3",
   "version": "3.6.3"
  }
 },
 "nbformat": 4,
 "nbformat_minor": 2
}
