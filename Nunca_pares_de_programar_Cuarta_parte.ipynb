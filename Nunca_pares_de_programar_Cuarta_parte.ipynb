{
 "cells": [
  {
   "cell_type": "markdown",
   "metadata": {},
   "source": [
    "### Reto #1 - Multiplicar decimales\n",
    "Pide a tu usuario que ingrese 2 números con decimales (cuantos más mejor)\n",
    "y muestra el resultado de multiplicarlos ¿fácil, no?"
   ]
  },
  {
   "cell_type": "code",
   "execution_count": 1,
   "metadata": {},
   "outputs": [
    {
     "name": "stdout",
     "output_type": "stream",
     "text": [
      "Hola, por favor escribe dos números con decimales para multiplicarlos.\n",
      "Primer número: 3.45677654\n",
      "Segundo número: 7.343567654323\n",
      "El resultado es: 25.385072387366577\n"
     ]
    }
   ],
   "source": [
    "print(\"Hola, por favor escribe dos números con decimales para multiplicarlos.\")\n",
    "user_n1 = float(input('Primer número: '))\n",
    "user_n2 = float(input('Segundo número: '))\n",
    "\n",
    "def mult_decimal(num1, num2):\n",
    "    multiplicacion = num1 * num2\n",
    "    print(f'El resultado es: {multiplicacion}')\n",
    "\n",
    "mult_decimal(user_n1, user_n2)"
   ]
  },
  {
   "cell_type": "markdown",
   "metadata": {},
   "source": [
    "### Reto #2 - Reducir los decimales\n",
    "Toma como base el reto anterior, pero ajústalo para que el resultado muestre solamente 1, 2, 3 o 4 decimales."
   ]
  },
  {
   "cell_type": "code",
   "execution_count": 5,
   "metadata": {},
   "outputs": [
    {
     "name": "stdout",
     "output_type": "stream",
     "text": [
      "Hola, por favor escribe dos números con decimales para multiplicarlos.\n",
      "Primer número: 3.45677654\n",
      "Segundo número: 7.343567654323\n",
      "El resultado es: 25.3851\n"
     ]
    }
   ],
   "source": [
    "print(\"Hola, por favor escribe dos números con decimales para multiplicarlos.\")\n",
    "user_n1 = float(input('Primer número: '))\n",
    "user_n2 = float(input('Segundo número: '))\n",
    "\n",
    "def mult_decimal_round(num1, num2):\n",
    "    multiplicacion = num1 * num2\n",
    "    print(f'El resultado es: {round(multiplicacion, 4)}')\n",
    "\n",
    "mult_decimal_round(user_n1, user_n2)"
   ]
  },
  {
   "cell_type": "markdown",
   "metadata": {},
   "source": [
    "### Reto #3 - Raíces cuadradas redondeadas\n",
    "Pide a tu usuario que ingrese un número, cuyo valor debe ser mayor a 20, luego calcula su raíz cuadrada y reduce a 2 o 3 decimales el resultado final."
   ]
  },
  {
   "cell_type": "code",
   "execution_count": 3,
   "metadata": {},
   "outputs": [
    {
     "name": "stdout",
     "output_type": "stream",
     "text": [
      "Hola, por favor escribe un número mayor a 20 para calcular su raíz cuadrada: 127\n",
      "El resultado es: 11.269\n"
     ]
    }
   ],
   "source": [
    "import math\n",
    "\n",
    "\n",
    "user_num = float(input(\"Hola, por favor escribe un número mayor a 20 para calcular su raíz cuadrada: \"))\n",
    "\n",
    "def raiz_cuadrada(num):\n",
    "    raiz = math.sqrt(num)\n",
    "    print(f'El resultado es: {round(raiz, 3)}')\n",
    "\n",
    "raiz_cuadrada(user_num)"
   ]
  },
  {
   "cell_type": "markdown",
   "metadata": {},
   "source": [
    "### Reto #4 - Calcular área de un círculo\n",
    "Solicita a tu usuario que ingrese un número el cual será el radio de un círculo y con este dato calcula el área de un círculo.\n",
    "Si tu lenguaje cuenta con librerías específicas para este propósito haz uso de las mismas."
   ]
  },
  {
   "cell_type": "code",
   "execution_count": 15,
   "metadata": {},
   "outputs": [
    {
     "name": "stdout",
     "output_type": "stream",
     "text": [
      "Ingresa cuánto mide el radio de tu círculo: 48\n",
      "El círculo tiene un área de 7238.229 unidades.\n"
     ]
    }
   ],
   "source": [
    "user_rad = float(input(\"Ingresa cuánto mide el radio de tu círculo: \"))\n",
    "\n",
    "def area_circulo(radio):\n",
    "    area = math.pi * radio**2\n",
    "    print(f'El círculo tiene un área de {round(area, 3)} unidades.')\n",
    "\n",
    "area_circulo(user_rad)"
   ]
  },
  {
   "cell_type": "markdown",
   "metadata": {},
   "source": [
    "### Reto #5 - Calcular volumen de un cilindro\n",
    "Pide a tu usuario que indique el radio y la profundidad de un cilindro. Después aplica la fórmula correspondiente para calcular el volumen del cilindro y reduce el resultado a un solo decimal."
   ]
  },
  {
   "cell_type": "code",
   "execution_count": 18,
   "metadata": {},
   "outputs": [
    {
     "name": "stdout",
     "output_type": "stream",
     "text": [
      "¡Vamos a calcular el volumen de un cilindro!\n",
      "Ingrese la medida del radio: 20\n",
      "Ingrese la altura del cilindro: 45.7\n",
      "El volumen del cilindro es 57428.3 unidades.\n"
     ]
    }
   ],
   "source": [
    "print(\"¡Vamos a calcular el volumen de un cilindro!\")\n",
    "radio = float(input(\"Ingrese la medida del radio: \"))\n",
    "altura = float(input(\"Ingrese la altura del cilindro: \"))\n",
    "\n",
    "def vol_cilindro(radio, altura):\n",
    "    volumen = math.pi * radio**2 * altura\n",
    "    print(f'El volumen del cilindro es {round(volumen, 1)} unidades.')\n",
    "\n",
    "vol_cilindro(radio, altura)"
   ]
  },
  {
   "cell_type": "markdown",
   "metadata": {},
   "source": [
    "### Reto #6 - Mostrar enteros y residuos\n",
    "Pide al usuario que ingrese 2 números, divídelos, muestra un resultado como enteros y además el residuo por separado de una forma que seal fácil de entender al usuario.\n",
    "Por ejemplo: “9 dividido entre 2 es 4 y sobra 1”."
   ]
  },
  {
   "cell_type": "code",
   "execution_count": 21,
   "metadata": {},
   "outputs": [
    {
     "name": "stdout",
     "output_type": "stream",
     "text": [
      "Escribe el número que quieres dividir: 9\n",
      "Escribe entre cuánto lo quieres dividir: 2\n",
      "9.0 dividido entre 2.0 da 4 y sobra 1.0 unidad(es).\n"
     ]
    }
   ],
   "source": [
    "user_dividendo = float(input(\"Escribe el número que quieres dividir: \"))\n",
    "user_divisor = float(input(\"Escribe entre cuánto lo quieres dividir: \"))\n",
    "\n",
    "def cociente_residuo(dividendo, divisor):\n",
    "    cociente = int(dividendo / divisor)\n",
    "    residuo = dividendo % divisor\n",
    "    print(f'{dividendo} dividido entre {divisor} da {cociente} y sobra {residuo} unidad(es).')\n",
    "    \n",
    "cociente_residuo(user_dividendo, user_divisor)"
   ]
  },
  {
   "cell_type": "markdown",
   "metadata": {},
   "source": [
    "### Reto #7 - Calcular perímetros y áreas\n",
    "Muestra un menú con distintas figuras geométricas, por lo menos 3 diferentes (triángulo, cuadrado, pentágono, etc.)\n",
    "Tu usuario debe poder elegir alguna de estas figuras, indicar la distancia de sus lados y mostrar como resultado tanto el perímetro como el área de dicha figura."
   ]
  },
  {
   "cell_type": "code",
   "execution_count": 11,
   "metadata": {},
   "outputs": [
    {
     "name": "stdout",
     "output_type": "stream",
     "text": [
      "Puedes calcular el área y perímetro de las siguientes figuras: circulo, cuadrado, heptagono\n",
      "Escribe el nombre de la figura que elegiste: HEPTAGONO\n",
      "¿Cuántos cm mide un lado de tu heptágono? 18\n",
      "El área del heptágono es 1177.388 cm^2 y su perímetro mide 126.0 cm\n"
     ]
    }
   ],
   "source": [
    "print(\"Puedes calcular el área y perímetro de las siguientes figuras: circulo, cuadrado, heptagono\")\n",
    "user_fig = input(\"Escribe el nombre de la figura que elegiste: \")\n",
    "user_fig = user_fig.lower()\n",
    "\n",
    "def area_perimetro(figura):\n",
    "    if user_fig == 'circulo':\n",
    "        radio_circulo = float(input('¿Cuántos cm mide el radio de tu círculo? '))\n",
    "        \n",
    "        area_circulo = math.pi * radio_circulo**2\n",
    "        perimetro_circulo = 2 * math.pi * radio_circulo\n",
    "        print(f'El área del círculo es {round(area_circulo,3)} cm^2 y el perímetro mide {round(perimetro_circulo,3)} cm.')\n",
    "        \n",
    "    elif user_fig == 'cuadrado':\n",
    "        lado_cuadro = float(input(\"¿Cuántos cm mide un lado de tu cuadrado? \"))\n",
    "        \n",
    "        area_cuadro = lado_cuadro**2\n",
    "        perimetro_cuadro = lado_cuadro * 4\n",
    "        print(f'El área del cuadrado es {round(area_cuadro,3)} cm^2 y su perímetro mide {round(perimetro_cuadro,3)} cm.')\n",
    "        \n",
    "    elif user_fig == 'heptagono':\n",
    "        lado_heptagono = float(input('¿Cuántos cm mide un lado de tu heptágono? '))\n",
    "        \n",
    "        area_heptagono = (7/4) * (lado_heptagono**2 / math.tan(math.pi/7) )\n",
    "        perimetro_heptagono = lado_heptagono * 7\n",
    "        print(f'El área del heptágono es {round(area_heptagono,3)} cm^2 y su perímetro mide {round(perimetro_heptagono,3)} cm')\n",
    "        \n",
    "area_perimetro(user_fig)"
   ]
  },
  {
   "cell_type": "code",
   "execution_count": null,
   "metadata": {
    "collapsed": true
   },
   "outputs": [],
   "source": []
  }
 ],
 "metadata": {
  "kernelspec": {
   "display_name": "Python 3",
   "language": "python",
   "name": "python3"
  },
  "language_info": {
   "codemirror_mode": {
    "name": "ipython",
    "version": 3
   },
   "file_extension": ".py",
   "mimetype": "text/x-python",
   "name": "python",
   "nbconvert_exporter": "python",
   "pygments_lexer": "ipython3",
   "version": "3.6.3"
  }
 },
 "nbformat": 4,
 "nbformat_minor": 2
}
